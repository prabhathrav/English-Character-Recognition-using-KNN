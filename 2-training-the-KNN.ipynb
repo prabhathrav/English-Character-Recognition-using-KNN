{
 "cells": [
  {
   "cell_type": "code",
   "execution_count": 12,
   "id": "7dea5a01",
   "metadata": {},
   "outputs": [],
   "source": [
    "import numpy as np\n",
    "\n",
    "data  = np.load('data.npy')\n",
    "target = np.load('target.npy')"
   ]
  },
  {
   "cell_type": "code",
   "execution_count": 13,
   "id": "b1b44552",
   "metadata": {},
   "outputs": [
    {
     "name": "stdout",
     "output_type": "stream",
     "text": [
      "(8899, 64)\n",
      "(8899,) [0 0 0 ... 9 9 9]\n"
     ]
    }
   ],
   "source": [
    "print(data.shape)\n",
    "print(target.shape, target)"
   ]
  },
  {
   "cell_type": "code",
   "execution_count": 14,
   "id": "867d8f13",
   "metadata": {},
   "outputs": [],
   "source": [
    "from sklearn.model_selection import train_test_split\n",
    "\n",
    "train_data, test_data, train_target, test_target = train_test_split(data, target, test_size = 0.2)"
   ]
  },
  {
   "cell_type": "code",
   "execution_count": 15,
   "id": "f41eabe1",
   "metadata": {},
   "outputs": [
    {
     "name": "stdout",
     "output_type": "stream",
     "text": [
      "(7119, 64) (7119,)\n",
      "(1780, 64) (1780,)\n"
     ]
    }
   ],
   "source": [
    "print(train_data.shape, train_target.shape)\n",
    "print(test_data.shape, test_target.shape)"
   ]
  },
  {
   "cell_type": "code",
   "execution_count": 16,
   "id": "7d55c484",
   "metadata": {},
   "outputs": [],
   "source": [
    "from sklearn.neighbors import KNeighborsClassifier\n",
    "\n",
    "model = KNeighborsClassifier()"
   ]
  },
  {
   "cell_type": "code",
   "execution_count": 17,
   "id": "385f5f2b",
   "metadata": {},
   "outputs": [
    {
     "data": {
      "text/plain": [
       "KNeighborsClassifier()"
      ]
     },
     "execution_count": 17,
     "metadata": {},
     "output_type": "execute_result"
    }
   ],
   "source": [
    "model.fit(train_data, train_target)"
   ]
  },
  {
   "cell_type": "code",
   "execution_count": 18,
   "id": "60ee4f82",
   "metadata": {},
   "outputs": [
    {
     "name": "stdout",
     "output_type": "stream",
     "text": [
      "[5 2 5 ... 1 8 2]\n"
     ]
    }
   ],
   "source": [
    "predicted_target = model.predict(test_data)\n",
    "\n",
    "print(predicted_target)"
   ]
  },
  {
   "cell_type": "code",
   "execution_count": 19,
   "id": "bc47183e",
   "metadata": {},
   "outputs": [
    {
     "name": "stdout",
     "output_type": "stream",
     "text": [
      "[5 7 5 ... 1 8 2]\n"
     ]
    }
   ],
   "source": [
    "print(test_target)"
   ]
  },
  {
   "cell_type": "code",
   "execution_count": 20,
   "id": "3497576d",
   "metadata": {},
   "outputs": [
    {
     "name": "stdout",
     "output_type": "stream",
     "text": [
      "Accuracy:  0.95\n"
     ]
    }
   ],
   "source": [
    "from sklearn.metrics import accuracy_score\n",
    "\n",
    "accuracy = accuracy_score(test_target, predicted_target)\n",
    "print('Accuracy: ', accuracy)"
   ]
  },
  {
   "cell_type": "code",
   "execution_count": 21,
   "id": "b83a6ffc",
   "metadata": {},
   "outputs": [
    {
     "name": "stdout",
     "output_type": "stream",
     "text": [
      "Classification Report:                precision    recall  f1-score   support\n",
      "\n",
      "           0       1.00      1.00      1.00       160\n",
      "           1       1.00      1.00      1.00       205\n",
      "           2       0.80      1.00      0.89       292\n",
      "           3       1.00      0.90      0.95       158\n",
      "           4       0.91      0.99      0.95       168\n",
      "           5       1.00      1.00      1.00       148\n",
      "           6       1.00      1.00      1.00       182\n",
      "           7       1.00      0.27      0.43        99\n",
      "           8       1.00      1.00      1.00       178\n",
      "           9       1.00      1.00      1.00       190\n",
      "\n",
      "    accuracy                           0.95      1780\n",
      "   macro avg       0.97      0.92      0.92      1780\n",
      "weighted avg       0.96      0.95      0.94      1780\n",
      "\n"
     ]
    }
   ],
   "source": [
    "from sklearn.metrics import classification_report\n",
    "\n",
    "classi_report = classification_report(test_target, predicted_target)\n",
    "print('Classification Report: ', classi_report)"
   ]
  },
  {
   "cell_type": "code",
   "execution_count": 22,
   "id": "3a53aa9d",
   "metadata": {},
   "outputs": [
    {
     "data": {
      "text/plain": [
       "['english-character-KNN.sav']"
      ]
     },
     "execution_count": 22,
     "metadata": {},
     "output_type": "execute_result"
    }
   ],
   "source": [
    "import joblib\n",
    "\n",
    "joblib.dump(model, 'english-character-KNN.sav')"
   ]
  }
 ],
 "metadata": {
  "kernelspec": {
   "display_name": "Python 3 (ipykernel)",
   "language": "python",
   "name": "python3"
  },
  "language_info": {
   "codemirror_mode": {
    "name": "ipython",
    "version": 3
   },
   "file_extension": ".py",
   "mimetype": "text/x-python",
   "name": "python",
   "nbconvert_exporter": "python",
   "pygments_lexer": "ipython3",
   "version": "3.9.7"
  }
 },
 "nbformat": 4,
 "nbformat_minor": 5
}
